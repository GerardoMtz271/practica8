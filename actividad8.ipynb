{
 "cells": [
  {
   "cell_type": "code",
   "execution_count": 1,
   "id": "b6d57321-ea0c-4de5-a7c9-9bb9798a4d64",
   "metadata": {},
   "outputs": [
    {
     "name": "stdout",
     "output_type": "stream",
     "text": [
      "Dataset: .. _iris_dataset:\n",
      "Accuracy Hold-Out: 0.9111111111111111\n",
      "Confusion Matrix Hold-Out:\n",
      "[[15  0  0]\n",
      " [ 0 14  1]\n",
      " [ 0  3 12]]\n",
      "Accuracy 10-Fold: 0.9533333333333334\n",
      "Accuracy LOO: 0.9533333333333334\n",
      "--------------------------------------------------\n",
      "Dataset: .. _wine_dataset:\n",
      "Accuracy Hold-Out: 1.0\n",
      "Confusion Matrix Hold-Out:\n",
      "[[18  0  0]\n",
      " [ 0 21  0]\n",
      " [ 0  0 15]]\n",
      "Accuracy 10-Fold: 0.9777777777777779\n",
      "Accuracy LOO: 0.9775280898876404\n",
      "--------------------------------------------------\n",
      "Dataset: .. _breast_cancer_dataset:\n",
      "Accuracy Hold-Out: 0.9473684210526315\n",
      "Confusion Matrix Hold-Out:\n",
      "[[ 57   7]\n",
      " [  2 105]]\n",
      "Accuracy 10-Fold: 0.9367794486215537\n",
      "Accuracy LOO: 0.9384885764499121\n",
      "--------------------------------------------------\n"
     ]
    }
   ],
   "source": [
    "import numpy as np\n",
    "from sklearn.model_selection import train_test_split, StratifiedKFold, LeaveOneOut, cross_val_score\n",
    "from sklearn.metrics import accuracy_score, confusion_matrix\n",
    "from sklearn.naive_bayes import GaussianNB\n",
    "from sklearn.datasets import load_iris, load_wine, load_breast_cancer\n",
    "\n",
    "# Cargar datasets\n",
    "datasets = [load_iris(), load_wine(), load_breast_cancer()]\n",
    "results = []\n",
    "\n",
    "for dataset in datasets:\n",
    "    X, y = dataset.data, dataset.target\n",
    "    dataset_name = dataset.DESCR.split(\"\\n\")[0]\n",
    "\n",
    "    # Modelo Naïve Bayes\n",
    "    model = GaussianNB()\n",
    "\n",
    "    # Hold-Out (70/30 estratificado)\n",
    "    X_train, X_test, y_train, y_test = train_test_split(X, y, test_size=0.3, stratify=y, random_state=42)\n",
    "    model.fit(X_train, y_train)\n",
    "    y_pred = model.predict(X_test)\n",
    "    acc_holdout = accuracy_score(y_test, y_pred)\n",
    "    conf_matrix_holdout = confusion_matrix(y_test, y_pred)\n",
    "\n",
    "    # 10-Fold Cross-Validation estratificado\n",
    "    skf = StratifiedKFold(n_splits=10)\n",
    "    acc_kfold = cross_val_score(model, X, y, cv=skf).mean()\n",
    "\n",
    "    # Leave-One-Out\n",
    "    loo = LeaveOneOut()\n",
    "    acc_loo = cross_val_score(model, X, y, cv=loo).mean()\n",
    "\n",
    "    # Almacenar resultados\n",
    "    results.append({\n",
    "        \"Dataset\": dataset_name,\n",
    "        \"Accuracy Hold-Out\": acc_holdout,\n",
    "        \"Confusion Matrix Hold-Out\": conf_matrix_holdout,\n",
    "        \"Accuracy 10-Fold\": acc_kfold,\n",
    "        \"Accuracy LOO\": acc_loo\n",
    "    })\n",
    "\n",
    "# Mostrar resultados\n",
    "for result in results:\n",
    "    print(f\"Dataset: {result['Dataset']}\")\n",
    "    print(f\"Accuracy Hold-Out: {result['Accuracy Hold-Out']}\")\n",
    "    print(f\"Confusion Matrix Hold-Out:\\n{result['Confusion Matrix Hold-Out']}\")\n",
    "    print(f\"Accuracy 10-Fold: {result['Accuracy 10-Fold']}\")\n",
    "    print(f\"Accuracy LOO: {result['Accuracy LOO']}\")\n",
    "    print(\"-\" * 50)\n"
   ]
  }
 ],
 "metadata": {
  "kernelspec": {
   "display_name": "Python 3 (ipykernel)",
   "language": "python",
   "name": "python3"
  },
  "language_info": {
   "codemirror_mode": {
    "name": "ipython",
    "version": 3
   },
   "file_extension": ".py",
   "mimetype": "text/x-python",
   "name": "python",
   "nbconvert_exporter": "python",
   "pygments_lexer": "ipython3",
   "version": "3.12.4"
  }
 },
 "nbformat": 4,
 "nbformat_minor": 5
}
